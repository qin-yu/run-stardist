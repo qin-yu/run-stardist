{
 "cells": [
  {
   "cell_type": "code",
   "execution_count": 1,
   "metadata": {},
   "outputs": [],
   "source": [
    "import glob\n",
    "import tifffile\n",
    "from pprint import pprint\n",
    "from natsort import natsorted"
   ]
  },
  {
   "cell_type": "code",
   "execution_count": 2,
   "metadata": {},
   "outputs": [
    {
     "name": "stdout",
     "output_type": "stream",
     "text": [
      "['/g/kreshuk/yu/Datasets/TMody2021Ovules/.original_prob_compare/1731_nstain.tif',\n",
      " '/g/kreshuk/yu/Datasets/TMody2021Ovules/.original_prob_compare/1732_nstain.tif',\n",
      " '/g/kreshuk/yu/Datasets/TMody2021Ovules/.original_prob_compare/1733_nstain.tif',\n",
      " '/g/kreshuk/yu/Datasets/TMody2021Ovules/.original_prob_compare/1734_nstain.tif']\n"
     ]
    }
   ],
   "source": [
    "input_folder_path = \"/g/kreshuk/yu/Datasets/TMody2021Ovules/.original_prob_compare/\"\n",
    "raw_file_list = natsorted(glob.glob(input_folder_path + \"*.tif\"))\n",
    "\n",
    "pprint(raw_file_list)"
   ]
  },
  {
   "cell_type": "code",
   "execution_count": 3,
   "metadata": {},
   "outputs": [],
   "source": [
    "img_list = []\n",
    "for raw_file in raw_file_list:\n",
    "    img_list.append(tifffile.imread(raw_file))"
   ]
  },
  {
   "cell_type": "code",
   "execution_count": 4,
   "metadata": {},
   "outputs": [
    {
     "data": {
      "text/plain": [
       "[(261, 1360, 1360), (165, 1104, 1104), (264, 1024, 1024), (376, 1944, 1944)]"
      ]
     },
     "execution_count": 4,
     "metadata": {},
     "output_type": "execute_result"
    }
   ],
   "source": [
    "[img.shape for img in img_list]"
   ]
  },
  {
   "cell_type": "code",
   "execution_count": null,
   "metadata": {},
   "outputs": [],
   "source": []
  }
 ],
 "metadata": {
  "interpreter": {
   "hash": "bcb99aff25bc9744d4a0061d1bb5c5db602a4fed326ad0ebedcbd7f8dad497fa"
  },
  "kernelspec": {
   "display_name": "Python 3.8.3 ('stardist')",
   "language": "python",
   "name": "python3"
  },
  "language_info": {
   "codemirror_mode": {
    "name": "ipython",
    "version": 3
   },
   "file_extension": ".py",
   "mimetype": "text/x-python",
   "name": "python",
   "nbconvert_exporter": "python",
   "pygments_lexer": "ipython3",
   "version": "3.8.3"
  },
  "orig_nbformat": 4
 },
 "nbformat": 4,
 "nbformat_minor": 2
}
