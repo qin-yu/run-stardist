{
 "cells": [
  {
   "cell_type": "code",
   "execution_count": 1,
   "id": "acff86cc",
   "metadata": {},
   "outputs": [],
   "source": [
    "import numpy as np\n",
    "import pandas as pd\n",
    "import h5py\n",
    "import glob\n",
    "from pprint import pprint\n",
    "from skimage.measure import regionprops\n",
    "import time\n",
    "import matplotlib.pyplot as plt"
   ]
  },
  {
   "cell_type": "code",
   "execution_count": 2,
   "id": "8bd237c4",
   "metadata": {},
   "outputs": [],
   "source": [
    "def file_properties(path_file):\n",
    "    with h5py.File(path_file, 'r') as f:\n",
    "        if 'label' not in f.keys():\n",
    "            message_err = \"'label' dataset must be included in the input HDF5 file! \" + \\\n",
    "                          f\"Only found the following keys:\\n{f.keys()}\"\n",
    "            raise KeyError(message_err)\n",
    "\n",
    "        time_start = time.time()\n",
    "        dset = f['label'][:]\n",
    "        time_end = time.time()\n",
    "        print(f\"Load time: {time_end - time_start}\")\n",
    "\n",
    "        regs = regionprops(dset)\n",
    "\n",
    "        # properties = [dset.shape, dset.dtype, ]\n",
    "\n",
    "    return regs"
   ]
  },
  {
   "cell_type": "code",
   "execution_count": 3,
   "id": "1ad44648",
   "metadata": {},
   "outputs": [],
   "source": [
    "def get_files_from_folder(path_folder, ext='h5'):\n",
    "    pathlist_files = glob.glob(path_folder + '/*.' + ext)\n",
    "    pprint(pathlist_files)\n",
    "    return(pathlist_files)"
   ]
  },
  {
   "cell_type": "code",
   "execution_count": 47,
   "id": "5bcbab38",
   "metadata": {
    "scrolled": false
   },
   "outputs": [
    {
     "name": "stdout",
     "output_type": "stream",
     "text": [
      "['/g/kreshuk/yu/Datasets/TMody2021Ovules/train/1613.h5',\n",
      " '/g/kreshuk/yu/Datasets/TMody2021Ovules/train/1614.h5',\n",
      " '/g/kreshuk/yu/Datasets/TMody2021Ovules/train/1616.h5',\n",
      " '/g/kreshuk/yu/Datasets/TMody2021Ovules/train/1617.h5']\n",
      "Load time: 3.4438726902008057\n"
     ]
    }
   ],
   "source": [
    "path_folder = \"/g/kreshuk/yu/Datasets/TMody2021Ovules/train\"\n",
    "pathlist_files = get_files_from_folder(path_folder, ext='h5')\n",
    "regs = file_properties(pathlist_files[0])"
   ]
  },
  {
   "cell_type": "code",
   "execution_count": 57,
   "id": "c93d22a2",
   "metadata": {},
   "outputs": [],
   "source": [
    "extents = np.array([np.array(r.bbox[3:]) - np.array(r.bbox[:3]) for r in regs])\n",
    "areas = np.array([r.area for r in regs])\n",
    "median_extents = np.median(extents, axis=0)\n",
    "anisotropy = tuple(np.max(median_extents) / median_extents)\n",
    "grid = tuple(1 if a > 1.5 else 2 for a in anisotropy)"
   ]
  },
  {
   "cell_type": "code",
   "execution_count": 59,
   "id": "fe8fe323",
   "metadata": {},
   "outputs": [
    {
     "data": {
      "text/plain": [
       "((4.2105263157894735, 1.0256410256410255, 1.0), (1, 2, 2), 80.0)"
      ]
     },
     "execution_count": 59,
     "metadata": {},
     "output_type": "execute_result"
    }
   ],
   "source": [
    "anisotropy, grid, np.max(median_extents)"
   ]
  },
  {
   "cell_type": "code",
   "execution_count": 45,
   "id": "20f112c2",
   "metadata": {},
   "outputs": [],
   "source": [
    "def area_distribution(areas):\n",
    "    fig, ax = plt.subplots(1, 1, figsize=(10, 5))\n",
    "    \n",
    "    ax.hist(areas)\n",
    "    ax.set_title('Number of Pixels')\n",
    "    \n",
    "    fig.tight_layout()"
   ]
  },
  {
   "cell_type": "code",
   "execution_count": 34,
   "id": "55f71563",
   "metadata": {},
   "outputs": [],
   "source": [
    "def size_distribution(extents):\n",
    "    fig, axs = plt.subplots(3, 1, figsize=(10, 15))\n",
    "    dims = ['z', 'y', 'x']\n",
    "\n",
    "    fig.suptitle(\"Distribution of Object Sizes\")\n",
    "    for idx in range(3):\n",
    "        axs[idx].hist(extents[:, idx])\n",
    "        axs[idx].set_title(dims[idx])\n",
    "\n",
    "    fig.tight_layout()"
   ]
  },
  {
   "cell_type": "code",
   "execution_count": null,
   "id": "3f5bc47e",
   "metadata": {},
   "outputs": [],
   "source": [
    "def check_dataset_names(path_file):\n",
    "    with h5py.File(path_file, 'r') as f:\n",
    "        print(f.keys())\n",
    "    return\n",
    "\n",
    "\n",
    "def get_files_from_folder(path_folder, ext='h5'):\n",
    "    pathlist_files = glob.glob(path_folder + '/*.' + ext)\n",
    "    pprint(pathlist_files)\n",
    "    return(pathlist_files)\n",
    "\n",
    "\n",
    "def file_properties(path_file):\n",
    "    with h5py.File(path_file, 'r') as f:\n",
    "        if 'label' not in f.keys():\n",
    "            message_err = \"'label' dataset must be included in the input HDF5 file! \" + \\\n",
    "                          f\"Only found the following keys:\\n{f.keys()}\"\n",
    "            raise KeyError(message_err)\n",
    "\n",
    "        time_start = time.time()\n",
    "        dset = f['label'][:]\n",
    "        time_end = time.time()\n",
    "        print(f\"Load time: {time_end - time_start}\")\n",
    "\n",
    "        regs = regionprops(dset)\n",
    "\n",
    "        # properties = [dset.shape, dset.dtype, ]\n",
    "\n",
    "    return regs\n",
    "\n",
    "\n",
    "def understand_dataset(path_folder, ext='h5'):\n",
    "    pathlist_files = get_files_from_folder(path_folder, ext='h5')\n",
    "    for path_file in pathlist_files:\n",
    "        file_properties(path_file)\n",
    "    return\n",
    "\n",
    "\n",
    "if __name__ == '__main__':\n",
    "    path_folder = \"/g/kreshuk/yu/Datasets/TMody2021Ovules/train\"\n",
    "    pathlist_files = get_files_from_folder(path_folder, ext='h5')\n",
    "    # understand_dataset(path_folder)\n",
    "    regs = file_properties(pathlist_files[0])\n",
    "    extents = np.array([np.array(r.bbox[3:]) - np.array(r.bbox[:3]) for r in regs])\n",
    "    areas = np.array([r.area for r in regs])\n",
    "    plt.hist(areas, bin=50)\n",
    "    print(regs[0].bbox, regs[0].area)\n"
   ]
  }
 ],
 "metadata": {
  "kernelspec": {
   "display_name": "Python 3",
   "language": "python",
   "name": "python3"
  },
  "language_info": {
   "codemirror_mode": {
    "name": "ipython",
    "version": 3
   },
   "file_extension": ".py",
   "mimetype": "text/x-python",
   "name": "python",
   "nbconvert_exporter": "python",
   "pygments_lexer": "ipython3",
   "version": "3.8.3"
  }
 },
 "nbformat": 4,
 "nbformat_minor": 5
}
