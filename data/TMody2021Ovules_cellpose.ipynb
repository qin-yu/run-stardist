{
 "cells": [
  {
   "cell_type": "markdown",
   "metadata": {},
   "source": [
    "# Prepare TMody2021Ovules data for cellpose\n",
    "\n",
    "by [Qin Yu](https://github.com/qin-yu), Jun 2022"
   ]
  },
  {
   "cell_type": "code",
   "execution_count": 1,
   "metadata": {},
   "outputs": [],
   "source": [
    "filepath_list = [\n",
    "    \"/g/kreshuk/yu/Datasets/TMody2021Ovules/train_xyds2/1613.h5\",\n",
    "    \"/g/kreshuk/yu/Datasets/TMody2021Ovules/train_xyds2/1614.h5\",\n",
    "    \"/g/kreshuk/yu/Datasets/TMody2021Ovules/train_xyds2/1615.h5\",\n",
    "    \"/g/kreshuk/yu/Datasets/TMody2021Ovules/train_xyds2/1616.h5\",\n",
    "    \"/g/kreshuk/yu/Datasets/TMody2021Ovules/train_xyds2/1617.h5\",\n",
    "    \"/g/kreshuk/yu/Datasets/AVijayan2021Ovules/train_v1/1135.h5\",\n",
    "    \"/g/kreshuk/yu/Datasets/AVijayan2021Ovules/train_v1/1136.h5\",\n",
    "    \"/g/kreshuk/yu/Datasets/AVijayan2021Ovules/train_v1/1139.h5\",\n",
    "    \"/g/kreshuk/yu/Datasets/AVijayan2021Ovules/train_v1/1170.h5\",\n",
    "    \"/g/kreshuk/yu/Datasets/AVijayan2021Ovules/val_v1/1137.h5\"\n",
    "]"
   ]
  },
  {
   "cell_type": "code",
   "execution_count": 2,
   "metadata": {},
   "outputs": [],
   "source": [
    "import h5py\n",
    "import tifffile\n",
    "from pathlib import Path "
   ]
  },
  {
   "cell_type": "code",
   "execution_count": 3,
   "metadata": {},
   "outputs": [],
   "source": [
    "dir_root = \"/g/kreshuk/yu/Datasets/TMody2021Ovules/train_cp/\"\n",
    "Path(dir_root).mkdir(parents=True, exist_ok=True)"
   ]
  },
  {
   "cell_type": "code",
   "execution_count": 4,
   "metadata": {},
   "outputs": [],
   "source": [
    "for filepath in filepath_list:\n",
    "    with h5py.File(filepath, 'r') as f:\n",
    "        img_raw = f['raw'][:]\n",
    "        img_lab = f['label'][:]\n",
    "    filepath_out = dir_root + Path(filepath).stem + \".tif\"\n",
    "    tifffile.imwrite(filepath_out, img_raw, imagej=True)\n",
    "    filepath_out = dir_root + Path(filepath).stem + \"_masks.tif\"\n",
    "    tifffile.imwrite(filepath_out, img_lab, imagej=True)"
   ]
  },
  {
   "cell_type": "code",
   "execution_count": null,
   "metadata": {},
   "outputs": [],
   "source": []
  }
 ],
 "metadata": {
  "language_info": {
   "name": "python"
  },
  "orig_nbformat": 4
 },
 "nbformat": 4,
 "nbformat_minor": 2
}
