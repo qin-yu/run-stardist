{
 "cells": [
  {
   "cell_type": "markdown",
   "metadata": {},
   "source": [
    "# Prepare TMody2021Ovules data for cellpose\n",
    "\n",
    "by [Qin Yu](https://github.com/qin-yu), Jun 2022"
   ]
  },
  {
   "cell_type": "code",
   "execution_count": 1,
   "metadata": {},
   "outputs": [],
   "source": [
    "filepath_list = [\n",
    "    \"/g/kreshuk/yu/Datasets/TMody2021Ovules/train_xyds2/1613.h5\",\n",
    "    \"/g/kreshuk/yu/Datasets/TMody2021Ovules/train_xyds2/1614.h5\",\n",
    "    \"/g/kreshuk/yu/Datasets/TMody2021Ovules/train_xyds2/1615.h5\",\n",
    "    \"/g/kreshuk/yu/Datasets/TMody2021Ovules/train_xyds2/1616.h5\",\n",
    "    \"/g/kreshuk/yu/Datasets/TMody2021Ovules/train_xyds2/1617.h5\",\n",
    "    \"/g/kreshuk/yu/Datasets/AVijayan2021Ovules/train_v1/1135.h5\",\n",
    "    \"/g/kreshuk/yu/Datasets/AVijayan2021Ovules/train_v1/1136.h5\",\n",
    "    \"/g/kreshuk/yu/Datasets/AVijayan2021Ovules/train_v1/1139.h5\",\n",
    "    \"/g/kreshuk/yu/Datasets/AVijayan2021Ovules/train_v1/1170.h5\",\n",
    "    \"/g/kreshuk/yu/Datasets/AVijayan2021Ovules/val_v1/1137.h5\"\n",
    "]"
   ]
  },
  {
   "cell_type": "code",
   "execution_count": 2,
   "metadata": {},
   "outputs": [],
   "source": [
    "import h5py\n",
    "import tifffile\n",
    "from pathlib import Path \n",
    "from tqdm.notebook import tqdm"
   ]
  },
  {
   "cell_type": "code",
   "execution_count": 3,
   "metadata": {},
   "outputs": [],
   "source": [
    "dir_root = \"/g/kreshuk/yu/Datasets/TMody2021Ovules/finetune_cp/\"\n",
    "Path(dir_root).mkdir(parents=True, exist_ok=True)"
   ]
  },
  {
   "cell_type": "code",
   "execution_count": 4,
   "metadata": {},
   "outputs": [
    {
     "data": {
      "application/vnd.jupyter.widget-view+json": {
       "model_id": "8fb7c1d2f8d843fa945c584e56088c37",
       "version_major": 2,
       "version_minor": 0
      },
      "text/plain": [
       "  0%|          | 0/10 [00:00<?, ?it/s]"
      ]
     },
     "metadata": {},
     "output_type": "display_data"
    }
   ],
   "source": [
    "for filepath in tqdm(filepath_list):\n",
    "    filepath_out = dir_root + Path(filepath).stem\n",
    "    with h5py.File(filepath, 'r') as f:\n",
    "        img_raw = f['raw'][:]\n",
    "        img_lab = f['label'][:]\n",
    "    for i in range(0, img_raw.shape[0], 10):\n",
    "        img_raw_i = img_raw[i, :, :]\n",
    "        tifffile.imwrite(filepath_out + f\"_xy{i:03d}.tif\", img_raw_i, imagej=True)\n",
    "        img_lab_i = img_lab[i, :, :]\n",
    "        tifffile.imwrite(filepath_out + f\"_xy{i:03d}_masks.tif\", img_lab_i, imagej=True)\n",
    "    for i in range(0, img_raw.shape[1], 10):\n",
    "        img_raw_i = img_raw[:, i, :]\n",
    "        tifffile.imwrite(filepath_out + f\"_xz{i:03d}.tif\", img_raw_i, imagej=True)\n",
    "        img_lab_i = img_lab[:, i, :]\n",
    "        tifffile.imwrite(filepath_out + f\"_xz{i:03d}_masks.tif\", img_lab_i, imagej=True)\n",
    "    for i in range(0, img_raw.shape[2], 10):\n",
    "        img_raw_i = img_raw[:, :, i]\n",
    "        tifffile.imwrite(filepath_out + f\"_yz{i:03d}.tif\", img_raw_i, imagej=True)\n",
    "        img_lab_i = img_lab[:, :, i]\n",
    "        tifffile.imwrite(filepath_out + f\"_yz{i:03d}_masks.tif\", img_lab_i, imagej=True)"
   ]
  },
  {
   "cell_type": "markdown",
   "metadata": {},
   "source": [
    "### Commands for training Cellpose\n",
    "\n",
    "[#54 (comment)](https://github.com/MouseLand/cellpose/issues/54#issuecomment-626248531) says:\n",
    "> For 3D images, you do not train on 3D data, in fact you train on 2D data. The cellpose model runs on XY, XZ, and YZ 2D slices and then combines them to create a 3D prediction. Therefore to improve 3D performance you want to take 2D slices from your 3D labelled data. The advantage of this approach means that you don't need to use 3D training data.\n",
    ">\n",
    "> I am going to close this issue for now but please comment if you're having problems with this."
   ]
  },
  {
   "cell_type": "markdown",
   "metadata": {},
   "source": []
  }
 ],
 "metadata": {
  "language_info": {
   "name": "python"
  },
  "orig_nbformat": 4
 },
 "nbformat": 4,
 "nbformat_minor": 2
}
